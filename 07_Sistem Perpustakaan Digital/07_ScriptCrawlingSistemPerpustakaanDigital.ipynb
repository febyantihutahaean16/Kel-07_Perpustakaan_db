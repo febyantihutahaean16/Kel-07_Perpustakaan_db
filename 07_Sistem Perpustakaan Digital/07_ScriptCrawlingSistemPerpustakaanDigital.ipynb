{
 "cells": [
  {
   "cell_type": "code",
   "execution_count": 2,
   "metadata": {},
   "outputs": [],
   "source": [
    "import csv\n",
    "import requests\n",
    "import psycopg2"
   ]
  },
  {
   "cell_type": "code",
   "execution_count": 2,
   "metadata": {},
   "outputs": [
    {
     "name": "stdout",
     "output_type": "stream",
     "text": [
      "Koneksi ke database berhasil!\n"
     ]
    }
   ],
   "source": [
    "conn = psycopg2.connect(\n",
    "    host=\"localhost\",\n",
    "    database=\"Perpustakaan_Kel-07_SBD\",  \n",
    "    user=\"postgres\",\n",
    "    password=\"feby1602\",  \n",
    "    port=5432\n",
    ")\n",
    "\n",
    "cursor = conn.cursor()\n",
    "print(\"Koneksi ke database berhasil!\")"
   ]
  },
  {
   "cell_type": "code",
   "execution_count": 3,
   "metadata": {},
   "outputs": [],
   "source": [
    "def fetch_books_from_api(query=\"*\", max_results=100):\n",
    "    url = f\"https://www.googleapis.com/books/v1/volumes?q={query}&maxResults=40\"\n",
    "    books = []\n",
    "    \n",
    "    while len(books) < max_results:\n",
    "        response = requests.get(url)\n",
    "        \n",
    "        if response.status_code == 200:\n",
    "            data = response.json()\n",
    "            new_books = data.get(\"items\", [])\n",
    "            books.extend(new_books)\n",
    "            \n",
    "            next_start_index = len(books)\n",
    "            if next_start_index < max_results and 'nextPageToken' in data:\n",
    "                url = f\"https://www.googleapis.com/books/v1/volumes?q={query}&maxResults=40&pageToken={data['nextPageToken']}\"\n",
    "            else:\n",
    "                break\n",
    "        else:\n",
    "            print(f\"Error fetching data: {response.status_code}\")\n",
    "            break\n",
    "\n",
    "    result = []\n",
    "    for book in books[:max_results]:\n",
    "        volume_info = book.get(\"volumeInfo\", {})\n",
    "        title = volume_info.get(\"title\", \"Unknown\")\n",
    "        authors = \", \".join(volume_info.get(\"authors\", [\"Unknown\"]))\n",
    "        publisher = volume_info.get(\"publisher\", \"Unknown\")\n",
    "        published_date = volume_info.get(\"publishedDate\", \"0\")[:4]\n",
    "        \n",
    "        result.append({\n",
    "            \"judul\": title,\n",
    "            \"penulis\": authors,\n",
    "            \"penerbit\": publisher,\n",
    "            \"tahunTerbit\": published_date if published_date.isdigit() else 0,\n",
    "            \"stok\": 10\n",
    "        })\n",
    "    \n",
    "    return result"
   ]
  },
  {
   "cell_type": "code",
   "execution_count": 4,
   "metadata": {},
   "outputs": [],
   "source": [
    "def insert_category_if_not_exists(category_name):\n",
    "    cursor.execute(\"SELECT id FROM kategori WHERE nama = %s\", (category_name,))\n",
    "    category = cursor.fetchone()\n",
    "\n",
    "    if not category:\n",
    "        cursor.execute(\"INSERT INTO kategori (nama) VALUES (%s) RETURNING id\", (category_name,))\n",
    "        conn.commit()\n",
    "        category_id = cursor.fetchone()[0]\n",
    "        print(f\"Kategori '{category_name}' berhasil ditambahkan!\")\n",
    "    else:\n",
    "        category_id = category[0]\n",
    "        print(f\"Kategori '{category_name}' sudah ada.\")\n",
    "    \n",
    "    return category_id"
   ]
  },
  {
   "cell_type": "code",
   "execution_count": 5,
   "metadata": {},
   "outputs": [],
   "source": [
    "def insert_books_to_db(books, query):\n",
    "    try:\n",
    "        kategori_id = insert_category_if_not_exists(query)\n",
    "\n",
    "        for book in books:\n",
    "            try:\n",
    "                cursor.execute(\"\"\"\n",
    "                    INSERT INTO buku (judul, penulis, penerbit, tahunTerbit, stok, kategori_id)\n",
    "                    VALUES (%s, %s, %s, %s, %s, %s)\n",
    "                    ON CONFLICT (judul) DO NOTHING;\n",
    "                \"\"\", (\n",
    "                    book[\"judul\"],\n",
    "                    book[\"penulis\"],\n",
    "                    book[\"penerbit\"],\n",
    "                    int(book[\"tahunTerbit\"]) if book[\"tahunTerbit\"].isdigit() else 0,\n",
    "                    book[\"stok\"],\n",
    "                    kategori_id\n",
    "                ))\n",
    "            except Exception as e:\n",
    "                print(f\"Error inserting book: {book['judul']}, Error: {e}\")\n",
    "                conn.rollback()\n",
    "        conn.commit()\n",
    "        print(\"Data berhasil dimasukkan ke database!\")\n",
    "    except Exception as e:\n",
    "        print(f\"Error in insert_books_to_db: {e}\")\n",
    "        conn.rollback()"
   ]
  },
  {
   "cell_type": "code",
   "execution_count": 6,
   "metadata": {},
   "outputs": [],
   "source": [
    "def export_to_csv(filename, query, columns):\n",
    "    cursor.execute(query)\n",
    "    rows = cursor.fetchall()\n",
    "    with open(filename, mode='w', newline='', encoding='utf-8') as file:\n",
    "        writer = csv.writer(file)\n",
    "        writer.writerow(columns)\n",
    "        writer.writerows(rows)\n",
    "    print(f\"Data berhasil disimpan ke file {filename}!\")"
   ]
  },
  {
   "cell_type": "code",
   "execution_count": 7,
   "metadata": {},
   "outputs": [
    {
     "name": "stdout",
     "output_type": "stream",
     "text": [
      "Kategori 'art' sudah ada.\n",
      "Data berhasil dimasukkan ke database!\n",
      "Kategori 'biography' sudah ada.\n",
      "Data berhasil dimasukkan ke database!\n",
      "Kategori 'business' sudah ada.\n",
      "Error inserting book: STARTUP BUSINESS, Error: value too long for type character varying(255)\n",
      "\n",
      "Error inserting book: The Magic Of Thinking Big in Business Administration, Error: value too long for type character varying(255)\n",
      "\n",
      "Error inserting book: Journal of Information Systems Engineering and Business Intelligence, Error: value too long for type character varying(255)\n",
      "\n",
      "Error inserting book: BUSINESS COMMUNICATION: KONSEP DAN APLIKASI DALAM KONTEKS INDIVIDU, KELOMPOK, DAN ORGANISASI, Error: value too long for type character varying(255)\n",
      "\n",
      "Data berhasil dimasukkan ke database!\n",
      "Kategori 'children' sudah ada.\n",
      "Data berhasil dimasukkan ke database!\n",
      "Kategori 'computers' sudah ada.\n",
      "Data berhasil dimasukkan ke database!\n",
      "Kategori 'cooking' sudah ada.\n",
      "Data berhasil dimasukkan ke database!\n",
      "Kategori 'design' sudah ada.\n",
      "Data berhasil dimasukkan ke database!\n",
      "Kategori 'history' sudah ada.\n",
      "Data berhasil dimasukkan ke database!\n",
      "Kategori 'health' sudah ada.\n",
      "Data berhasil dimasukkan ke database!\n",
      "Kategori 'horror' sudah ada.\n",
      "Data berhasil dimasukkan ke database!\n",
      "Kategori 'literature' sudah ada.\n",
      "Error inserting book: PROCEEDING INTERNATIONAL CONFERENCE ON LANGUAGE, LITERATURE AND CULTURE, Error: value too long for type character varying(255)\n",
      "\n",
      "Data berhasil dimasukkan ke database!\n",
      "Kategori 'music' sudah ada.\n",
      "Data berhasil dimasukkan ke database!\n",
      "Kategori 'mystery' sudah ada.\n",
      "Data berhasil dimasukkan ke database!\n",
      "Kategori 'philosophy' sudah ada.\n",
      "Data berhasil dimasukkan ke database!\n",
      "Kategori 'poetry' sudah ada.\n",
      "Data berhasil dimasukkan ke database!\n",
      "Kategori 'psychology' sudah ada.\n",
      "Data berhasil dimasukkan ke database!\n",
      "Kategori 'religion' sudah ada.\n",
      "Data berhasil dimasukkan ke database!\n",
      "Kategori 'science' sudah ada.\n",
      "Data berhasil dimasukkan ke database!\n",
      "Kategori 'self-help' sudah ada.\n",
      "Data berhasil dimasukkan ke database!\n",
      "Kategori 'spirituality' sudah ada.\n",
      "Data berhasil dimasukkan ke database!\n",
      "Kategori 'sports' sudah ada.\n",
      "Data berhasil dimasukkan ke database!\n",
      "Kategori 'technology' sudah ada.\n",
      "Data berhasil dimasukkan ke database!\n",
      "Kategori 'travel' sudah ada.\n",
      "Data berhasil dimasukkan ke database!\n",
      "Kategori 'true-crime' sudah ada.\n",
      "Data berhasil dimasukkan ke database!\n",
      "Kategori 'fiction' sudah ada.\n",
      "Data berhasil dimasukkan ke database!\n",
      "Kategori 'non-fiction' sudah ada.\n",
      "Data berhasil dimasukkan ke database!\n",
      "Kategori 'romance' sudah ada.\n",
      "Data berhasil dimasukkan ke database!\n",
      "Kategori 'young-adult' sudah ada.\n",
      "Data berhasil dimasukkan ke database!\n",
      "Kategori 'science-fiction' sudah ada.\n",
      "Data berhasil dimasukkan ke database!\n",
      "Kategori 'fantasy' sudah ada.\n",
      "Data berhasil dimasukkan ke database!\n"
     ]
    }
   ],
   "source": [
    "queries = [\n",
    "    \"art\", \"biography\", \"business\", \"children\", \"computers\", \"cooking\", \"design\", \n",
    "    \"history\", \"health\", \"horror\", \"literature\", \"music\", \"mystery\", \"philosophy\", \n",
    "    \"poetry\", \"psychology\", \"religion\", \"science\", \"self-help\", \"spirituality\", \n",
    "    \"sports\", \"technology\", \"travel\", \"true-crime\", \"fiction\", \"non-fiction\", \n",
    "    \"romance\", \"young-adult\", \"science-fiction\", \"fantasy\"\n",
    "]\n",
    "\n",
    "for query in queries:\n",
    "    books = fetch_books_from_api(query, max_results=100)\n",
    "    insert_books_to_db(books, query)\n"
   ]
  },
  {
   "cell_type": "code",
   "execution_count": 11,
   "metadata": {},
   "outputs": [
    {
     "ename": "InterfaceError",
     "evalue": "cursor already closed",
     "output_type": "error",
     "traceback": [
      "\u001b[1;31m---------------------------------------------------------------------------\u001b[0m",
      "\u001b[1;31mInterfaceError\u001b[0m                            Traceback (most recent call last)",
      "Cell \u001b[1;32mIn[11], line 1\u001b[0m\n\u001b[1;32m----> 1\u001b[0m \u001b[43mexport_to_csv\u001b[49m\u001b[43m(\u001b[49m\n\u001b[0;32m      2\u001b[0m \u001b[43m    \u001b[49m\u001b[43mfilename\u001b[49m\u001b[38;5;241;43m=\u001b[39;49m\u001b[38;5;124;43m\"\u001b[39;49m\u001b[38;5;124;43m07_HasilCrawlingSistemPerpustakaanDigital_kategori.csv\u001b[39;49m\u001b[38;5;124;43m\"\u001b[39;49m\u001b[43m,\u001b[49m\n\u001b[0;32m      3\u001b[0m \u001b[43m    \u001b[49m\u001b[43mquery\u001b[49m\u001b[38;5;241;43m=\u001b[39;49m\u001b[38;5;124;43m\"\u001b[39;49m\u001b[38;5;124;43mSELECT id, nama FROM kategori\u001b[39;49m\u001b[38;5;124;43m\"\u001b[39;49m\u001b[43m,\u001b[49m\n\u001b[0;32m      4\u001b[0m \u001b[43m    \u001b[49m\u001b[43mcolumns\u001b[49m\u001b[38;5;241;43m=\u001b[39;49m\u001b[43m[\u001b[49m\u001b[38;5;124;43m\"\u001b[39;49m\u001b[38;5;124;43mid\u001b[39;49m\u001b[38;5;124;43m\"\u001b[39;49m\u001b[43m,\u001b[49m\u001b[43m \u001b[49m\u001b[38;5;124;43m\"\u001b[39;49m\u001b[38;5;124;43mnama\u001b[39;49m\u001b[38;5;124;43m\"\u001b[39;49m\u001b[43m]\u001b[49m\n\u001b[0;32m      5\u001b[0m \u001b[43m)\u001b[49m\n\u001b[0;32m      7\u001b[0m export_to_csv(\n\u001b[0;32m      8\u001b[0m     filename\u001b[38;5;241m=\u001b[39m\u001b[38;5;124m\"\u001b[39m\u001b[38;5;124m07_HasilCrawlingSistemPerpustakaanDigital_buku.csv\u001b[39m\u001b[38;5;124m\"\u001b[39m,\n\u001b[0;32m      9\u001b[0m     query\u001b[38;5;241m=\u001b[39m\u001b[38;5;124m\"\u001b[39m\u001b[38;5;124mSELECT id, judul, penulis, penerbit, tahunTerbit, stok, kategori_id FROM buku\u001b[39m\u001b[38;5;124m\"\u001b[39m,\n\u001b[0;32m     10\u001b[0m     columns\u001b[38;5;241m=\u001b[39m[\u001b[38;5;124m\"\u001b[39m\u001b[38;5;124mid\u001b[39m\u001b[38;5;124m\"\u001b[39m, \u001b[38;5;124m\"\u001b[39m\u001b[38;5;124mjudul\u001b[39m\u001b[38;5;124m\"\u001b[39m, \u001b[38;5;124m\"\u001b[39m\u001b[38;5;124mpenulis\u001b[39m\u001b[38;5;124m\"\u001b[39m, \u001b[38;5;124m\"\u001b[39m\u001b[38;5;124mpenerbit\u001b[39m\u001b[38;5;124m\"\u001b[39m, \u001b[38;5;124m\"\u001b[39m\u001b[38;5;124mtahunTerbit\u001b[39m\u001b[38;5;124m\"\u001b[39m, \u001b[38;5;124m\"\u001b[39m\u001b[38;5;124mstok\u001b[39m\u001b[38;5;124m\"\u001b[39m, \u001b[38;5;124m\"\u001b[39m\u001b[38;5;124mkategori_id\u001b[39m\u001b[38;5;124m\"\u001b[39m]\n\u001b[0;32m     11\u001b[0m )\n",
      "Cell \u001b[1;32mIn[6], line 2\u001b[0m, in \u001b[0;36mexport_to_csv\u001b[1;34m(filename, query, columns)\u001b[0m\n\u001b[0;32m      1\u001b[0m \u001b[38;5;28;01mdef\u001b[39;00m \u001b[38;5;21mexport_to_csv\u001b[39m(filename, query, columns):\n\u001b[1;32m----> 2\u001b[0m     \u001b[43mcursor\u001b[49m\u001b[38;5;241;43m.\u001b[39;49m\u001b[43mexecute\u001b[49m\u001b[43m(\u001b[49m\u001b[43mquery\u001b[49m\u001b[43m)\u001b[49m\n\u001b[0;32m      3\u001b[0m     rows \u001b[38;5;241m=\u001b[39m cursor\u001b[38;5;241m.\u001b[39mfetchall()\n\u001b[0;32m      4\u001b[0m     \u001b[38;5;28;01mwith\u001b[39;00m \u001b[38;5;28mopen\u001b[39m(filename, mode\u001b[38;5;241m=\u001b[39m\u001b[38;5;124m'\u001b[39m\u001b[38;5;124mw\u001b[39m\u001b[38;5;124m'\u001b[39m, newline\u001b[38;5;241m=\u001b[39m\u001b[38;5;124m'\u001b[39m\u001b[38;5;124m'\u001b[39m, encoding\u001b[38;5;241m=\u001b[39m\u001b[38;5;124m'\u001b[39m\u001b[38;5;124mutf-8\u001b[39m\u001b[38;5;124m'\u001b[39m) \u001b[38;5;28;01mas\u001b[39;00m file:\n",
      "\u001b[1;31mInterfaceError\u001b[0m: cursor already closed"
     ]
    }
   ],
   "source": [
    "export_to_csv(\n",
    "    filename=\"07_HasilCrawlingSistemPerpustakaanDigital_kategori.csv\",\n",
    "    query=\"SELECT id, nama FROM kategori\",\n",
    "    columns=[\"id\", \"nama\"]\n",
    ")\n",
    "\n",
    "export_to_csv(\n",
    "    filename=\"07_HasilCrawlingSistemPerpustakaanDigital_buku.csv\",\n",
    "    query=\"SELECT id, judul, penulis, penerbit, tahunTerbit, stok, kategori_id FROM buku\",\n",
    "    columns=[\"id\", \"judul\", \"penulis\", \"penerbit\", \"tahunTerbit\", \"stok\", \"kategori_id\"]\n",
    ")"
   ]
  },
  {
   "cell_type": "code",
   "execution_count": 1,
   "metadata": {},
   "outputs": [
    {
     "ename": "NameError",
     "evalue": "name 'cursor' is not defined",
     "output_type": "error",
     "traceback": [
      "\u001b[1;31m---------------------------------------------------------------------------\u001b[0m",
      "\u001b[1;31mNameError\u001b[0m                                 Traceback (most recent call last)",
      "Cell \u001b[1;32mIn[1], line 1\u001b[0m\n\u001b[1;32m----> 1\u001b[0m \u001b[43mcursor\u001b[49m\u001b[38;5;241m.\u001b[39mclose()\n\u001b[0;32m      2\u001b[0m conn\u001b[38;5;241m.\u001b[39mclose()\n\u001b[0;32m      3\u001b[0m \u001b[38;5;28mprint\u001b[39m(\u001b[38;5;124m\"\u001b[39m\u001b[38;5;124mKoneksi ke database telah ditutup.\u001b[39m\u001b[38;5;124m\"\u001b[39m)\n",
      "\u001b[1;31mNameError\u001b[0m: name 'cursor' is not defined"
     ]
    }
   ],
   "source": [
    "cursor.close()\n",
    "conn.close()\n",
    "print(\"Koneksi ke database telah ditutup.\")"
   ]
  }
 ],
 "metadata": {
  "kernelspec": {
   "display_name": "Python 3",
   "language": "python",
   "name": "python3"
  },
  "language_info": {
   "codemirror_mode": {
    "name": "ipython",
    "version": 3
   },
   "file_extension": ".py",
   "mimetype": "text/x-python",
   "name": "python",
   "nbconvert_exporter": "python",
   "pygments_lexer": "ipython3",
   "version": "3.12.3"
  }
 },
 "nbformat": 4,
 "nbformat_minor": 2
}
